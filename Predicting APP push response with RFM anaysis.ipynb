{
 "cells": [
  {
   "cell_type": "code",
   "execution_count": 1,
   "id": "b142244f",
   "metadata": {},
   "outputs": [],
   "source": [
    "import pandas as pd\n",
    "import pyrsm as rsm\n",
    "import numpy as np\n",
    "import matplotlib.pyplot as plt\n",
    "import seaborn as sns"
   ]
  },
  {
   "cell_type": "code",
   "execution_count": 2,
   "id": "909e9c57",
   "metadata": {},
   "outputs": [
    {
     "name": "stdout",
     "output_type": "stream",
     "text": [
      "<class 'pandas.core.frame.DataFrame'>\n",
      "RangeIndex: 27878 entries, 0 to 27877\n",
      "Data columns (total 10 columns):\n",
      " #   Column      Non-Null Count  Dtype   \n",
      "---  ------      --------------  -----   \n",
      " 0   userid      27878 non-null  object  \n",
      " 1   recency     27878 non-null  int32   \n",
      " 2   frequency   27878 non-null  int32   \n",
      " 3   monetary    27878 non-null  float64 \n",
      " 4   rfm_iq_pre  27878 non-null  object  \n",
      " 5   buyer       27878 non-null  category\n",
      " 6   ordersize   27878 non-null  float64 \n",
      " 7   platform    27878 non-null  category\n",
      " 8   category    27878 non-null  int32   \n",
      " 9   mobile_os   27878 non-null  category\n",
      "dtypes: category(3), float64(2), int32(3), object(2)\n",
      "memory usage: 1.2+ MB\n"
     ]
    }
   ],
   "source": [
    "tuango = pd.read_pickle(\"data/tuango.pkl\")\n",
    "tuango.info()"
   ]
  },
  {
   "cell_type": "code",
   "execution_count": 3,
   "id": "01232d85",
   "metadata": {},
   "outputs": [
    {
     "data": {
      "text/plain": [
       "0.02980845110840089"
      ]
     },
     "execution_count": 3,
     "metadata": {},
     "output_type": "execute_result"
    }
   ],
   "source": [
    "# 对推送有响应的顾客比例\n",
    "np.mean(tuango.buyer=='yes')"
   ]
  },
  {
   "cell_type": "code",
   "execution_count": 4,
   "id": "96910109",
   "metadata": {},
   "outputs": [
    {
     "data": {
      "text/plain": [
       "202.12876052948255"
      ]
     },
     "execution_count": 4,
     "metadata": {},
     "output_type": "execute_result"
    }
   ],
   "source": [
    "# 推送带来的平均订单金额\n",
    "np.mean(tuango[tuango.buyer=='yes']['ordersize'])"
   ]
  },
  {
   "cell_type": "code",
   "execution_count": 5,
   "id": "bb2f2b2c",
   "metadata": {},
   "outputs": [
    {
     "data": {
      "text/html": [
       "<div>\n",
       "<style scoped>\n",
       "    .dataframe tbody tr th:only-of-type {\n",
       "        vertical-align: middle;\n",
       "    }\n",
       "\n",
       "    .dataframe tbody tr th {\n",
       "        vertical-align: top;\n",
       "    }\n",
       "\n",
       "    .dataframe thead th {\n",
       "        text-align: right;\n",
       "    }\n",
       "</style>\n",
       "<table border=\"1\" class=\"dataframe\">\n",
       "  <thead>\n",
       "    <tr style=\"text-align: right;\">\n",
       "      <th></th>\n",
       "      <th>userid</th>\n",
       "      <th>recency</th>\n",
       "      <th>frequency</th>\n",
       "      <th>monetary</th>\n",
       "      <th>rfm_iq_pre</th>\n",
       "      <th>buyer</th>\n",
       "      <th>ordersize</th>\n",
       "      <th>platform</th>\n",
       "      <th>category</th>\n",
       "      <th>mobile_os</th>\n",
       "      <th>rec_iq</th>\n",
       "      <th>freq_iq</th>\n",
       "      <th>mon_iq</th>\n",
       "    </tr>\n",
       "  </thead>\n",
       "  <tbody>\n",
       "    <tr>\n",
       "      <th>0</th>\n",
       "      <td>U12617430</td>\n",
       "      <td>309</td>\n",
       "      <td>7</td>\n",
       "      <td>39.8</td>\n",
       "      <td>514</td>\n",
       "      <td>no</td>\n",
       "      <td>0.0</td>\n",
       "      <td>App</td>\n",
       "      <td>3</td>\n",
       "      <td>android</td>\n",
       "      <td>5</td>\n",
       "      <td>1</td>\n",
       "      <td>4</td>\n",
       "    </tr>\n",
       "    <tr>\n",
       "      <th>1</th>\n",
       "      <td>U63302737</td>\n",
       "      <td>297</td>\n",
       "      <td>8</td>\n",
       "      <td>39.8</td>\n",
       "      <td>514</td>\n",
       "      <td>no</td>\n",
       "      <td>0.0</td>\n",
       "      <td>Browser</td>\n",
       "      <td>3</td>\n",
       "      <td>android</td>\n",
       "      <td>5</td>\n",
       "      <td>1</td>\n",
       "      <td>4</td>\n",
       "    </tr>\n",
       "    <tr>\n",
       "      <th>2</th>\n",
       "      <td>U77095928</td>\n",
       "      <td>295</td>\n",
       "      <td>1</td>\n",
       "      <td>72.9</td>\n",
       "      <td>553</td>\n",
       "      <td>no</td>\n",
       "      <td>0.0</td>\n",
       "      <td>Browser</td>\n",
       "      <td>3</td>\n",
       "      <td>android</td>\n",
       "      <td>5</td>\n",
       "      <td>5</td>\n",
       "      <td>3</td>\n",
       "    </tr>\n",
       "    <tr>\n",
       "      <th>3</th>\n",
       "      <td>U43509181</td>\n",
       "      <td>277</td>\n",
       "      <td>1</td>\n",
       "      <td>40.0</td>\n",
       "      <td>554</td>\n",
       "      <td>no</td>\n",
       "      <td>0.0</td>\n",
       "      <td>Browser</td>\n",
       "      <td>3</td>\n",
       "      <td>android</td>\n",
       "      <td>5</td>\n",
       "      <td>5</td>\n",
       "      <td>4</td>\n",
       "    </tr>\n",
       "    <tr>\n",
       "      <th>4</th>\n",
       "      <td>U23195941</td>\n",
       "      <td>259</td>\n",
       "      <td>1</td>\n",
       "      <td>21.0</td>\n",
       "      <td>555</td>\n",
       "      <td>no</td>\n",
       "      <td>0.0</td>\n",
       "      <td>App</td>\n",
       "      <td>3</td>\n",
       "      <td>android</td>\n",
       "      <td>5</td>\n",
       "      <td>5</td>\n",
       "      <td>5</td>\n",
       "    </tr>\n",
       "  </tbody>\n",
       "</table>\n",
       "</div>"
      ],
      "text/plain": [
       "      userid  recency  frequency  monetary rfm_iq_pre buyer  ordersize  \\\n",
       "0  U12617430      309          7      39.8        514    no        0.0   \n",
       "1  U63302737      297          8      39.8        514    no        0.0   \n",
       "2  U77095928      295          1      72.9        553    no        0.0   \n",
       "3  U43509181      277          1      40.0        554    no        0.0   \n",
       "4  U23195941      259          1      21.0        555    no        0.0   \n",
       "\n",
       "  platform  category mobile_os  rec_iq  freq_iq  mon_iq  \n",
       "0      App         3   android       5        1       4  \n",
       "1  Browser         3   android       5        1       4  \n",
       "2  Browser         3   android       5        5       3  \n",
       "3  Browser         3   android       5        5       4  \n",
       "4      App         3   android       5        5       5  "
      ]
     },
     "execution_count": 5,
     "metadata": {},
     "output_type": "execute_result"
    }
   ],
   "source": [
    "# 划分独立 RFM 区间\n",
    "# 其中 R最近购买时间，最近的一组标记为 1，F频率和 M金额都是最大的一组标记为 1\n",
    "tuango = tuango.assign(rec_iq=rsm.xtile(tuango[\"recency\"], 5))\n",
    "tuango = tuango.assign(freq_iq=rsm.xtile(tuango[\"frequency\"], 5, rev=True))\n",
    "tuango = tuango.assign(mon_iq=rsm.xtile(tuango[\"monetary\"], 5, rev=True))\n",
    "tuango.head()"
   ]
  },
  {
   "cell_type": "code",
   "execution_count": 6,
   "id": "f5d99ce1",
   "metadata": {},
   "outputs": [
    {
     "data": {
      "image/png": "[encoded data removed]",
      "text/plain": [
       "<Figure size 432x288 with 1 Axes>"
      ]
     },
     "metadata": {
      "needs_background": "light"
     },
     "output_type": "display_data"
    }
   ],
   "source": [
    "# 最近购买时间越近，响应推送的顾客比例越高。\n",
    "\n",
    "fig_rec = rsm.prop_plot(tuango, \"rec_iq\", \"buyer\", \"yes\")\n",
    "fig_rec = fig_rec.set(xlabel=\"Recency quintiles (rec_iq)\")"
   ]
  },
  {
   "cell_type": "code",
   "execution_count": 7,
   "id": "bdb6e1d4",
   "metadata": {},
   "outputs": [
    {
     "data": {
      "image/png": "[encoded data removed]",
      "text/plain": [
       "<Figure size 432x288 with 1 Axes>"
      ]
     },
     "metadata": {
      "needs_background": "light"
     },
     "output_type": "display_data"
    }
   ],
   "source": [
    "# 购买频率越高，响应比例越高。\n",
    "\n",
    "fig_freq = rsm.prop_plot(tuango, \"freq_iq\", \"buyer\", \"yes\")\n",
    "fig_freq = fig_freq.set(xlabel=\"Frequency quintiles (freq_iq)\")"
   ]
  },
  {
   "cell_type": "code",
   "execution_count": 8,
   "id": "c9a1396b",
   "metadata": {},
   "outputs": [
    {
     "data": {
      "image/png": "[encoded data removed]",
      "text/plain": [
       "<Figure size 432x288 with 1 Axes>"
      ]
     },
     "metadata": {
      "needs_background": "light"
     },
     "output_type": "display_data"
    }
   ],
   "source": [
    "# 订单金额越大，响应比例越高。\n",
    "\n",
    "fig_mon = rsm.prop_plot(tuango, \"mon_iq\", \"buyer\", \"yes\")\n",
    "fig_mon = fig_mon.set_xlabel(\"Monetary value quintiles (mon_iq)\")"
   ]
  },
  {
   "cell_type": "code",
   "execution_count": 9,
   "id": "1783ce45",
   "metadata": {},
   "outputs": [
    {
     "data": {
      "image/png": "[encoded data removed]",
      "text/plain": [
       "<Figure size 360x360 with 1 Axes>"
      ]
     },
     "metadata": {
      "needs_background": "light"
     },
     "output_type": "display_data"
    }
   ],
   "source": [
    "sns.catplot(x='rec_iq',y='ordersize',data=tuango[tuango.buyer=='yes'],\n",
    "            kind='bar',palette=\"Blues\").set(title='average amount spent per recency quintile')\n",
    "plt.show()"
   ]
  },
  {
   "cell_type": "code",
   "execution_count": 10,
   "id": "1e3a9033",
   "metadata": {},
   "outputs": [
    {
     "data": {
      "image/png": "[encoded data removed]",
      "text/plain": [
       "<Figure size 360x360 with 1 Axes>"
      ]
     },
     "metadata": {
      "needs_background": "light"
     },
     "output_type": "display_data"
    }
   ],
   "source": [
    "sns.catplot(x='freq_iq',y='ordersize',data=tuango[tuango.buyer=='yes'],\n",
    "            kind='bar',palette=\"Blues\").set(title='average amount spent per freqency quintile')\n",
    "plt.show()"
   ]
  },
  {
   "cell_type": "code",
   "execution_count": 11,
   "id": "46dea9f5",
   "metadata": {},
   "outputs": [
    {
     "data": {
      "image/png": "[encoded data removed]",
      "text/plain": [
       "<Figure size 360x360 with 1 Axes>"
      ]
     },
     "metadata": {
      "needs_background": "light"
     },
     "output_type": "display_data"
    }
   ],
   "source": [
    "sns.catplot(x='mon_iq',y='ordersize',data=tuango[tuango.buyer=='yes'],\n",
    "            kind='bar',palette=\"Blues\").set(title='average amount spent per monetary quintile')\n",
    "plt.show()"
   ]
  },
  {
   "cell_type": "markdown",
   "id": "bca22ccb",
   "metadata": {},
   "source": [
    "响应的可能性因五分之一而异，并且与五分之一呈正相关。\n",
    "五分位的订单大小基本相同。"
   ]
  },
  {
   "cell_type": "code",
   "execution_count": 12,
   "id": "9671a952",
   "metadata": {},
   "outputs": [],
   "source": [
    "# 生成独立 RFM 的三位号码\n",
    "tuango = tuango.assign(\n",
    "    rfm_iq=tuango[\"rec_iq\"].astype(str)\n",
    "    + tuango[\"freq_iq\"].astype(str)\n",
    "    + tuango[\"mon_iq\"].astype(str)\n",
    ")"
   ]
  },
  {
   "cell_type": "code",
   "execution_count": 13,
   "id": "45f5299a",
   "metadata": {},
   "outputs": [
    {
     "data": {
      "text/html": [
       "<div>\n",
       "<style scoped>\n",
       "    .dataframe tbody tr th:only-of-type {\n",
       "        vertical-align: middle;\n",
       "    }\n",
       "\n",
       "    .dataframe tbody tr th {\n",
       "        vertical-align: top;\n",
       "    }\n",
       "\n",
       "    .dataframe thead th {\n",
       "        text-align: right;\n",
       "    }\n",
       "</style>\n",
       "<table border=\"1\" class=\"dataframe\">\n",
       "  <thead>\n",
       "    <tr style=\"text-align: right;\">\n",
       "      <th></th>\n",
       "      <th>userid</th>\n",
       "      <th>recency</th>\n",
       "      <th>frequency</th>\n",
       "      <th>monetary</th>\n",
       "      <th>rfm_iq_pre</th>\n",
       "      <th>buyer</th>\n",
       "      <th>ordersize</th>\n",
       "      <th>platform</th>\n",
       "      <th>category</th>\n",
       "      <th>mobile_os</th>\n",
       "      <th>rec_iq</th>\n",
       "      <th>freq_iq</th>\n",
       "      <th>mon_iq</th>\n",
       "      <th>rfm_iq</th>\n",
       "      <th>freq_sq</th>\n",
       "      <th>mon_sq</th>\n",
       "      <th>rfm_sq</th>\n",
       "    </tr>\n",
       "  </thead>\n",
       "  <tbody>\n",
       "    <tr>\n",
       "      <th>0</th>\n",
       "      <td>U12617430</td>\n",
       "      <td>309</td>\n",
       "      <td>7</td>\n",
       "      <td>39.8</td>\n",
       "      <td>514</td>\n",
       "      <td>no</td>\n",
       "      <td>0.0</td>\n",
       "      <td>App</td>\n",
       "      <td>3</td>\n",
       "      <td>android</td>\n",
       "      <td>5</td>\n",
       "      <td>1</td>\n",
       "      <td>4</td>\n",
       "      <td>514</td>\n",
       "      <td>1</td>\n",
       "      <td>4</td>\n",
       "      <td>514</td>\n",
       "    </tr>\n",
       "    <tr>\n",
       "      <th>1</th>\n",
       "      <td>U63302737</td>\n",
       "      <td>297</td>\n",
       "      <td>8</td>\n",
       "      <td>39.8</td>\n",
       "      <td>514</td>\n",
       "      <td>no</td>\n",
       "      <td>0.0</td>\n",
       "      <td>Browser</td>\n",
       "      <td>3</td>\n",
       "      <td>android</td>\n",
       "      <td>5</td>\n",
       "      <td>1</td>\n",
       "      <td>4</td>\n",
       "      <td>514</td>\n",
       "      <td>1</td>\n",
       "      <td>4</td>\n",
       "      <td>514</td>\n",
       "    </tr>\n",
       "    <tr>\n",
       "      <th>2</th>\n",
       "      <td>U77095928</td>\n",
       "      <td>295</td>\n",
       "      <td>1</td>\n",
       "      <td>72.9</td>\n",
       "      <td>553</td>\n",
       "      <td>no</td>\n",
       "      <td>0.0</td>\n",
       "      <td>Browser</td>\n",
       "      <td>3</td>\n",
       "      <td>android</td>\n",
       "      <td>5</td>\n",
       "      <td>5</td>\n",
       "      <td>3</td>\n",
       "      <td>553</td>\n",
       "      <td>5</td>\n",
       "      <td>3</td>\n",
       "      <td>553</td>\n",
       "    </tr>\n",
       "    <tr>\n",
       "      <th>3</th>\n",
       "      <td>U43509181</td>\n",
       "      <td>277</td>\n",
       "      <td>1</td>\n",
       "      <td>40.0</td>\n",
       "      <td>554</td>\n",
       "      <td>no</td>\n",
       "      <td>0.0</td>\n",
       "      <td>Browser</td>\n",
       "      <td>3</td>\n",
       "      <td>android</td>\n",
       "      <td>5</td>\n",
       "      <td>5</td>\n",
       "      <td>4</td>\n",
       "      <td>554</td>\n",
       "      <td>5</td>\n",
       "      <td>4</td>\n",
       "      <td>554</td>\n",
       "    </tr>\n",
       "    <tr>\n",
       "      <th>4</th>\n",
       "      <td>U23195941</td>\n",
       "      <td>259</td>\n",
       "      <td>1</td>\n",
       "      <td>21.0</td>\n",
       "      <td>555</td>\n",
       "      <td>no</td>\n",
       "      <td>0.0</td>\n",
       "      <td>App</td>\n",
       "      <td>3</td>\n",
       "      <td>android</td>\n",
       "      <td>5</td>\n",
       "      <td>5</td>\n",
       "      <td>5</td>\n",
       "      <td>555</td>\n",
       "      <td>5</td>\n",
       "      <td>5</td>\n",
       "      <td>555</td>\n",
       "    </tr>\n",
       "  </tbody>\n",
       "</table>\n",
       "</div>"
      ],
      "text/plain": [
       "      userid  recency  frequency  monetary rfm_iq_pre buyer  ordersize  \\\n",
       "0  U12617430      309          7      39.8        514    no        0.0   \n",
       "1  U63302737      297          8      39.8        514    no        0.0   \n",
       "2  U77095928      295          1      72.9        553    no        0.0   \n",
       "3  U43509181      277          1      40.0        554    no        0.0   \n",
       "4  U23195941      259          1      21.0        555    no        0.0   \n",
       "\n",
       "  platform  category mobile_os  rec_iq  freq_iq  mon_iq rfm_iq  freq_sq  \\\n",
       "0      App         3   android       5        1       4    514        1   \n",
       "1  Browser         3   android       5        1       4    514        1   \n",
       "2  Browser         3   android       5        5       3    553        5   \n",
       "3  Browser         3   android       5        5       4    554        5   \n",
       "4      App         3   android       5        5       5    555        5   \n",
       "\n",
       "   mon_sq rfm_sq  \n",
       "0       4    514  \n",
       "1       4    514  \n",
       "2       3    553  \n",
       "3       4    554  \n",
       "4       5    555  "
      ]
     },
     "execution_count": 13,
     "metadata": {},
     "output_type": "execute_result"
    }
   ],
   "source": [
    "# 顺序 RFM。按照 R，F，M 的顺序依次创建区间。\n",
    "\n",
    "tuango = tuango.assign(\n",
    "    freq_sq=tuango.groupby(\"rec_iq\")[\"frequency\"].transform(rsm.xtile, 5, rev=True)\n",
    ")\n",
    "\n",
    "tuango = tuango.assign(\n",
    "    mon_sq=tuango.groupby([\"rec_iq\", \"freq_sq\"])[\"monetary\"].transform(rsm.xtile, 5, rev=True)\n",
    ")\n",
    "\n",
    "# 生成顺序 RFM 的三位号码\n",
    "tuango = tuango.assign(\n",
    "    rfm_sq=tuango[\"rec_iq\"].astype(str)\n",
    "    + tuango[\"freq_sq\"].astype(str)\n",
    "    + tuango[\"mon_sq\"].astype(str)\n",
    ")\n",
    "\n",
    "tuango.head()"
   ]
  },
  {
   "cell_type": "markdown",
   "id": "3ea1cc00",
   "metadata": {},
   "source": [
    "### What is the breakeven response rate?"
   ]
  },
  {
   "cell_type": "code",
   "execution_count": 14,
   "id": "6f388b3d",
   "metadata": {},
   "outputs": [
    {
     "data": {
      "text/plain": [
       "0.024720656580638784"
      ]
     },
     "execution_count": 14,
     "metadata": {},
     "output_type": "execute_result"
    }
   ],
   "source": [
    "# 假设提供交易的边际成本为2.5元。每笔交易的费用为销售收入的50％。\n",
    "# 202.13元 为推送带来的平均订单金额。那么需要响应率至少达到 0.024720656580638784 才能盈利。\n",
    "breakeven = 2.5 / (202.13 - 101)\n",
    "breakeven"
   ]
  },
  {
   "cell_type": "code",
   "execution_count": 15,
   "id": "83820467",
   "metadata": {},
   "outputs": [
    {
     "data": {
      "image/png": "[encoded data removed]",
      "text/plain": [
       "<Figure size 1152x504 with 1 Axes>"
      ]
     },
     "metadata": {
      "needs_background": "light"
     },
     "output_type": "display_data"
    }
   ],
   "source": [
    "# plot all 125 groups\n",
    "plt.figure(figsize=(16, 7))\n",
    "fig = rsm.prop_plot(tuango, \"rfm_iq\", \"buyer\", \"yes\", breakeven=breakeven)\n",
    "fig.set_xticklabels(fig.get_xticklabels(), rotation=90)\n",
    "fig = fig.set(xlabel=\"Independent RFM index (rsm_iq)\")"
   ]
  },
  {
   "cell_type": "code",
   "execution_count": 16,
   "id": "3a3f63cc",
   "metadata": {},
   "outputs": [
    {
     "data": {
      "image/png": "[encoded data removed]",
      "text/plain": [
       "<Figure size 1152x504 with 1 Axes>"
      ]
     },
     "metadata": {
      "needs_background": "light"
     },
     "output_type": "display_data"
    }
   ],
   "source": [
    "# plot all 125 groups\n",
    "plt.figure(figsize=(16, 7))\n",
    "fig = rsm.prop_plot(tuango, \"rfm_sq\", \"buyer\", \"yes\", breakeven=breakeven)\n",
    "fig.set_xticklabels(fig.get_xticklabels(), rotation=90)\n",
    "fig = fig.set(xlabel=\"Sequential RFM index (rsm_sq)\")"
   ]
  },
  {
   "cell_type": "markdown",
   "id": "801e037e",
   "metadata": {},
   "source": [
    "## 给所有用户发推送"
   ]
  },
  {
   "cell_type": "code",
   "execution_count": 38,
   "id": "0e4053fb",
   "metadata": {},
   "outputs": [
    {
     "name": "stdout",
     "output_type": "stream",
     "text": [
      "推送数量及比例为 250,902 (100.0%) 名顾客\n",
      "预计响应率为 2.98%\n",
      "预计收入为 $1,511,730 ，预计成本为 $627,255 \n",
      "预计利润为 $128,610\n",
      "营销费用回报率 ROME 为 20.5%\n"
     ]
    }
   ],
   "source": [
    "def performance(df=tuango, mail_to=None, intro=None, perf='buyer', lev='yes'):\n",
    "    \n",
    "    if mail_to:\n",
    "        perc_mail = np.nanmean(df[mail_to]) # 推送比例\n",
    "        df = df[df[mail_to]]\n",
    "    else:\n",
    "        perc_mail = 1.0 # 推送比例\n",
    "        \n",
    "    nr_mail = 250902 * perc_mail  # 推送数量\n",
    "    mail_cost = 2.5 * nr_mail    # 推送成本\n",
    "\n",
    "    rep_rate = np.nanmean(df[perf]==lev) # 响应比例\n",
    "    nr_resp = nr_mail * rep_rate  # 响应数量\n",
    "\n",
    "    revenue = 202.13 * nr_resp\n",
    "    profit = 0.5 * revenue - mail_cost\n",
    "    ROME = profit / mail_cost\n",
    "    \n",
    "    print(\n",
    "    f\"\"\"推送数量及比例为 {int(nr_mail*perc_mail):,} ({round((100 * perc_mail), 2)}%) 名顾客\n",
    "预计响应率为 {round((100 * rep_rate), 2)}%\n",
    "预计收入为 ${int(revenue):,} ，预计成本为 ${int(mail_cost):,} \n",
    "预计利润为 ${int(profit):,}\n",
    "营销费用回报率 ROME 为 {round((100 * ROME), 2)}%\"\"\"\n",
    ")\n",
    "    return [profit, ROME]\n",
    "\n",
    "no_target = performance()"
   ]
  },
  {
   "cell_type": "code",
   "execution_count": 19,
   "id": "6c993861",
   "metadata": {},
   "outputs": [],
   "source": [
    "def response_rate(x, lev=\"yes\"):\n",
    "    return np.nanmean(x == lev)\n",
    "\n",
    "def mailto(x, lev=\"yes\", breakeven=0):\n",
    "    return np.nanmean(x == \"yes\") > breakeven\n",
    "\n",
    "breakeven = 2.5 / (202.13 - 101)"
   ]
  },
  {
   "cell_type": "markdown",
   "id": "3bc95fd0",
   "metadata": {},
   "source": [
    "## 全局 breakeven rate"
   ]
  },
  {
   "cell_type": "code",
   "execution_count": 21,
   "id": "57692b91",
   "metadata": {},
   "outputs": [
    {
     "name": "stdout",
     "output_type": "stream",
     "text": [
      "推送数量及比例为 49,735 (44.52%) 名顾客\n",
      "预计响应率为 5.41%\n",
      "预计收入为 $1,222,482 ，预计成本为 $279,270 \n",
      "预计利润为 $331,971\n",
      "营销费用回报率 ROME 为 118.87%\n"
     ]
    }
   ],
   "source": [
    "# calculate performance for independent RFM\n",
    "tuango = tuango.assign(\n",
    "    rfm_iq_resp=tuango.groupby(\"rfm_iq\")[\"buyer\"].transform(response_rate),\n",
    "    mailto_iq=tuango.groupby(\"rfm_iq\")[\"buyer\"].transform(mailto, breakeven=breakeven)\n",
    ")\n",
    "\n",
    "RFM_iq = performance(df=tuango, mail_to='mailto_iq')"
   ]
  },
  {
   "cell_type": "code",
   "execution_count": 22,
   "id": "44f495a1",
   "metadata": {},
   "outputs": [
    {
     "name": "stdout",
     "output_type": "stream",
     "text": [
      "推送数量及比例为 42,888 (41.34%) 名顾客\n",
      "预计响应率为 5.68%\n",
      "预计收入为 $1,191,556 ，预计成本为 $259,335 \n",
      "预计利润为 $336,443\n",
      "营销费用回报率 ROME 为 129.73%\n"
     ]
    }
   ],
   "source": [
    "# calculate performance for sequential RFM\n",
    "tuango['mailto_sq'] = tuango.groupby(\"rfm_sq\")[\"buyer\"].transform(mailto, breakeven=breakeven)\n",
    "\n",
    "RFM_sq = performance(df=tuango, mail_to='mailto_sq')"
   ]
  },
  {
   "cell_type": "markdown",
   "id": "18ecef34",
   "metadata": {},
   "source": [
    "## 分 cell 单独计算 breakeven rate"
   ]
  },
  {
   "cell_type": "code",
   "execution_count": 31,
   "id": "22232839",
   "metadata": {},
   "outputs": [
    {
     "name": "stderr",
     "output_type": "stream",
     "text": [
      "<ipython-input-31-5ca39610e075>:6: RuntimeWarning: invalid value encountered in double_scalars\n",
      "  tuango['avg_order_sq'] = tuango.groupby('rfm_sq')[['ordersize','buyer_yes']].transform(sum).apply(lambda x: x['ordersize']/x['buyer_yes'], axis=1).fillna(0)\n"
     ]
    }
   ],
   "source": [
    "# 根据每个 RFM cell 计算单独的 breakeven rate\n",
    "tuango[\"buyer_yes\"] = np.where(tuango[\"buyer\"] == \"yes\", 1, 0)\n",
    "tuango['rfm_sq_resp']=tuango.groupby(\"rfm_sq\")[\"buyer\"].transform(response_rate)\n",
    "\n",
    "\n",
    "tuango['avg_order_sq'] = tuango.groupby('rfm_sq')[['ordersize','buyer_yes']].transform(sum).apply(lambda x: x['ordersize']/x['buyer_yes'], axis=1).fillna(0)\n",
    "tuango['breakeven_sq'] = (2.5 / (0.5*tuango['avg_order_sq']))"
   ]
  },
  {
   "cell_type": "code",
   "execution_count": 36,
   "id": "b67f64a3",
   "metadata": {},
   "outputs": [
    {
     "name": "stdout",
     "output_type": "stream",
     "text": [
      "推送数量及比例为 47,422 (43.48%) 名顾客\n",
      "预计响应率为 5.52%\n",
      "预计收入为 $1,217,024 ，预计成本为 $272,700 \n",
      "预计利润为 $335,812\n",
      "营销费用回报率 ROME 为 123.14%\n"
     ]
    }
   ],
   "source": [
    "tuango['mailto_sq_pc'] = tuango['rfm_sq_resp'] > tuango['breakeven_sq']\n",
    "\n",
    "tuango.mailto_sq_pc.sum()\n",
    "\n",
    "RFM_sq_pc = performance(df=tuango, mail_to='mailto_sq_pc')"
   ]
  },
  {
   "cell_type": "markdown",
   "id": "6be690b5",
   "metadata": {},
   "source": [
    "## 分 cell 单独计算 breakeven rate，考虑标准误"
   ]
  },
  {
   "cell_type": "code",
   "execution_count": null,
   "id": "82e400be",
   "metadata": {},
   "outputs": [],
   "source": [
    "def prop_lb(x):\n",
    "    prop = np.mean(x) - rsm.seprop(x)\n",
    "    return rsm.ifelse(prop<0, 0, prop)"
   ]
  },
  {
   "cell_type": "code",
   "execution_count": 34,
   "id": "183108f0",
   "metadata": {},
   "outputs": [
    {
     "name": "stderr",
     "output_type": "stream",
     "text": [
      "<ipython-input-34-926f98b2fb99>:1: RuntimeWarning: invalid value encountered in double_scalars\n",
      "  tuango['avg_order_iq'] = tuango.groupby('rfm_iq')[['ordersize','buyer_yes']].transform(sum).apply(lambda x: x['ordersize']/x['buyer_yes'], axis=1).fillna(0)\n"
     ]
    },
    {
     "name": "stdout",
     "output_type": "stream",
     "text": [
      "推送数量及比例为 16,712 (25.81%) 名顾客\n",
      "预计响应率为 7.05%\n",
      "预计收入为 $922,319 ，预计成本为 $161,887 \n",
      "预计利润为 $299,272\n",
      "营销费用回报率 ROME 为 184.86%\n"
     ]
    }
   ],
   "source": [
    "tuango['avg_order_iq'] = tuango.groupby('rfm_iq')[['ordersize','buyer_yes']].transform(sum).apply(lambda x: x['ordersize']/x['buyer_yes'], axis=1).fillna(0)\n",
    "tuango['breakeven_iq'] = (2.5 / (0.5*tuango['avg_order_iq']))\n",
    "\n",
    "tuango['mailto_iq_lb'] = (\n",
    "    tuango.groupby('rfm_iq')['buyer_yes'].transform(prop_lb) > tuango.breakeven_iq\n",
    ")\n",
    "\n",
    "RFM_iq_lb = performance(df=tuango, mail_to='mailto_iq_lb')"
   ]
  },
  {
   "cell_type": "code",
   "execution_count": 35,
   "id": "34fb9cfc",
   "metadata": {},
   "outputs": [
    {
     "name": "stdout",
     "output_type": "stream",
     "text": [
      "推送数量及比例为 25,952 (32.16%) 名顾客\n",
      "预计响应率为 6.47%\n",
      "预计收入为 $1,055,118 ，预计成本为 $201,735 \n",
      "预计利润为 $325,824\n",
      "营销费用回报率 ROME 为 161.51%\n"
     ]
    }
   ],
   "source": [
    "tuango['mailto_sq_lb'] = (\n",
    "    tuango.groupby('rfm_sq')['buyer_yes'].transform(prop_lb) > tuango.breakeven_sq\n",
    ")\n",
    "\n",
    "RFM_sq_lb = performance(df=tuango, mail_to='mailto_sq_lb')"
   ]
  },
  {
   "cell_type": "code",
   "execution_count": 42,
   "id": "3321cc22",
   "metadata": {},
   "outputs": [
    {
     "data": {
      "text/html": [
       "<div>\n",
       "<style scoped>\n",
       "    .dataframe tbody tr th:only-of-type {\n",
       "        vertical-align: middle;\n",
       "    }\n",
       "\n",
       "    .dataframe tbody tr th {\n",
       "        vertical-align: top;\n",
       "    }\n",
       "\n",
       "    .dataframe thead th {\n",
       "        text-align: right;\n",
       "    }\n",
       "</style>\n",
       "<table border=\"1\" class=\"dataframe\">\n",
       "  <thead>\n",
       "    <tr style=\"text-align: right;\">\n",
       "      <th></th>\n",
       "      <th>profit</th>\n",
       "      <th>ROME</th>\n",
       "      <th>n</th>\n",
       "    </tr>\n",
       "  </thead>\n",
       "  <tbody>\n",
       "    <tr>\n",
       "      <th>0</th>\n",
       "      <td>128610.135</td>\n",
       "      <td>0.205036</td>\n",
       "      <td>no_target</td>\n",
       "    </tr>\n",
       "    <tr>\n",
       "      <th>1</th>\n",
       "      <td>331971.120</td>\n",
       "      <td>1.188710</td>\n",
       "      <td>RFM_iq</td>\n",
       "    </tr>\n",
       "    <tr>\n",
       "      <th>2</th>\n",
       "      <td>336443.175</td>\n",
       "      <td>1.297330</td>\n",
       "      <td>RFM_sq</td>\n",
       "    </tr>\n",
       "    <tr>\n",
       "      <th>3</th>\n",
       "      <td>335812.365</td>\n",
       "      <td>1.231435</td>\n",
       "      <td>RFM_sq_pc</td>\n",
       "    </tr>\n",
       "    <tr>\n",
       "      <th>4</th>\n",
       "      <td>299272.095</td>\n",
       "      <td>1.848642</td>\n",
       "      <td>RFM_iq_lb</td>\n",
       "    </tr>\n",
       "    <tr>\n",
       "      <th>5</th>\n",
       "      <td>325824.300</td>\n",
       "      <td>1.615110</td>\n",
       "      <td>RFM_sq_lb</td>\n",
       "    </tr>\n",
       "  </tbody>\n",
       "</table>\n",
       "</div>"
      ],
      "text/plain": [
       "       profit      ROME          n\n",
       "0  128610.135  0.205036  no_target\n",
       "1  331971.120  1.188710     RFM_iq\n",
       "2  336443.175  1.297330     RFM_sq\n",
       "3  335812.365  1.231435  RFM_sq_pc\n",
       "4  299272.095  1.848642  RFM_iq_lb\n",
       "5  325824.300  1.615110  RFM_sq_lb"
      ]
     },
     "execution_count": 42,
     "metadata": {},
     "output_type": "execute_result"
    }
   ],
   "source": [
    "viz = pd.DataFrame(np.array([no_target,RFM_iq,RFM_sq,RFM_sq_pc,RFM_iq_lb,RFM_sq_lb]),columns=['profit','ROME'])\n",
    "viz['n']=pd.Series(['no_target','RFM_iq','RFM_sq','RFM_sq_pc','RFM_iq_lb','RFM_sq_lb'])\n",
    "viz"
   ]
  },
  {
   "cell_type": "markdown",
   "id": "77d661e2",
   "metadata": {},
   "source": [
    "## Predicted Results"
   ]
  },
  {
   "cell_type": "code",
   "execution_count": 47,
   "id": "f1b43bbb",
   "metadata": {},
   "outputs": [
    {
     "data": {
      "image/png": "[encoded data removed]",
      "text/plain": [
       "<Figure size 360x360 with 1 Axes>"
      ]
     },
     "metadata": {
      "needs_background": "light"
     },
     "output_type": "display_data"
    }
   ],
   "source": [
    "sns.catplot(x='n',y='profit',data=viz,kind='bar',palette=\"Blues\").set(title='Campaign Profit')\n",
    "plt.show()"
   ]
  },
  {
   "cell_type": "code",
   "execution_count": 46,
   "id": "ba04ce57",
   "metadata": {},
   "outputs": [
    {
     "data": {
      "image/png": "[encoded data removed]",
      "text/plain": [
       "<Figure size 360x360 with 1 Axes>"
      ]
     },
     "metadata": {
      "needs_background": "light"
     },
     "output_type": "display_data"
    }
   ],
   "source": [
    "sns.catplot(x='n',y='ROME',data=viz,kind='bar',palette=\"Blues\").set(title='Campaign ROME')\n",
    "plt.show()"
   ]
  },
  {
   "cell_type": "markdown",
   "id": "26d4ee7d",
   "metadata": {},
   "source": [
    "\n",
    "\n",
    "#### sequential RFM 的优点:\n",
    "- 更均匀的组合 RFM 分数分布\n",
    "\n",
    "#### sequential RFM 的缺点：\n",
    "- 率和货币排名分数更难以解释。例如，新近等级为 5 的客户的频率等级为 5 可能与新近等级为 4 的客户的频率等级为 5 的含义不同，因为频率等级取决于新近等级。\n",
    "\n",
    "#### independent RFM 的优点：\n",
    "- 解释。五分位数的含义在新近、频率和货币之间是相同的。\n",
    "\n",
    "#### independent RFM 的缺点：\n",
    "- 据集较小时，更有可能生成空箱。"
   ]
  }
 ],
 "metadata": {
  "kernelspec": {
   "display_name": "Python 3",
   "language": "python",
   "name": "python3"
  },
  "language_info": {
   "codemirror_mode": {
    "name": "ipython",
    "version": 3
   },
   "file_extension": ".py",
   "mimetype": "text/x-python",
   "name": "python",
   "nbconvert_exporter": "python",
   "pygments_lexer": "ipython3",
   "version": "3.8.5"
  }
 },
 "nbformat": 4,
 "nbformat_minor": 5
}
