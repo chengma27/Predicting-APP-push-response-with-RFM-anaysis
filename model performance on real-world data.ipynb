{
 "cells": [
  {
   "cell_type": "code",
   "execution_count": 1,
   "id": "0e50d3c3",
   "metadata": {},
   "outputs": [],
   "source": [
    "import pandas as pd\n",
    "import pyrsm as rsm\n",
    "import numpy as np\n",
    "import matplotlib.pyplot as plt\n",
    "import seaborn as sns"
   ]
  },
  {
   "cell_type": "code",
   "execution_count": 2,
   "id": "17426723",
   "metadata": {},
   "outputs": [
    {
     "name": "stdout",
     "output_type": "stream",
     "text": [
      "<class 'pandas.core.frame.DataFrame'>\n",
      "RangeIndex: 278780 entries, 0 to 278779\n",
      "Data columns (total 11 columns):\n",
      " #   Column      Non-Null Count   Dtype   \n",
      "---  ------      --------------   -----   \n",
      " 0   userid      278780 non-null  object  \n",
      " 1   recency     278780 non-null  int32   \n",
      " 2   frequency   278780 non-null  int32   \n",
      " 3   monetary    278780 non-null  float64 \n",
      " 4   rfm_iq_pre  278780 non-null  object  \n",
      " 5   buyer       278780 non-null  category\n",
      " 6   ordersize   278780 non-null  float64 \n",
      " 7   platform    278780 non-null  category\n",
      " 8   category    278780 non-null  int32   \n",
      " 9   mobile_os   278780 non-null  category\n",
      " 10  training    278780 non-null  float64 \n",
      "dtypes: category(3), float64(3), int32(3), object(2)\n",
      "memory usage: 14.6+ MB\n"
     ]
    }
   ],
   "source": [
    "tuango = pd.read_pickle(\"data/tuango_post.pkl\")\n",
    "\n",
    "tuango.info()"
   ]
  },
  {
   "cell_type": "code",
   "execution_count": 3,
   "id": "927d5486",
   "metadata": {},
   "outputs": [
    {
     "data": {
      "text/plain": [
       "0.02961474998206471"
      ]
     },
     "execution_count": 3,
     "metadata": {},
     "output_type": "execute_result"
    }
   ],
   "source": [
    "# 对推送有响应的顾客比例\n",
    "np.mean(tuango.buyer=='yes')"
   ]
  },
  {
   "cell_type": "code",
   "execution_count": 4,
   "id": "cd46df95",
   "metadata": {},
   "outputs": [
    {
     "data": {
      "text/plain": [
       "202.4544573643411"
      ]
     },
     "execution_count": 4,
     "metadata": {},
     "output_type": "execute_result"
    }
   ],
   "source": [
    "# 推送带来的平均订单金额\n",
    "np.mean(tuango[tuango.buyer=='yes']['ordersize'])"
   ]
  },
  {
   "cell_type": "code",
   "execution_count": 5,
   "id": "14a9143d",
   "metadata": {},
   "outputs": [],
   "source": [
    "# 划分独立 RFM 区间\n",
    "# 其中 R最近购买时间，最近的一组标记为 1，F频率和 M金额都是最大的一组标记为 1\n",
    "tuango = tuango.assign(rec_iq=rsm.xtile(tuango[\"recency\"], 5))\n",
    "tuango = tuango.assign(freq_iq=rsm.xtile(tuango[\"frequency\"], 5, rev=True))\n",
    "tuango = tuango.assign(mon_iq=rsm.xtile(tuango[\"monetary\"], 5, rev=True))"
   ]
  },
  {
   "cell_type": "code",
   "execution_count": 14,
   "id": "f2b8f923",
   "metadata": {},
   "outputs": [],
   "source": [
    "# 生成独立 RFM 的三位号码\n",
    "tuango = tuango.assign(\n",
    "    rfm_iq=tuango[\"rec_iq\"].astype(str)\n",
    "    + tuango[\"freq_iq\"].astype(str)\n",
    "    + tuango[\"mon_iq\"].astype(str)\n",
    ")"
   ]
  },
  {
   "cell_type": "code",
   "execution_count": 15,
   "id": "aac27bde",
   "metadata": {},
   "outputs": [
    {
     "data": {
      "text/html": [
       "<div>\n",
       "<style scoped>\n",
       "    .dataframe tbody tr th:only-of-type {\n",
       "        vertical-align: middle;\n",
       "    }\n",
       "\n",
       "    .dataframe tbody tr th {\n",
       "        vertical-align: top;\n",
       "    }\n",
       "\n",
       "    .dataframe thead th {\n",
       "        text-align: right;\n",
       "    }\n",
       "</style>\n",
       "<table border=\"1\" class=\"dataframe\">\n",
       "  <thead>\n",
       "    <tr style=\"text-align: right;\">\n",
       "      <th></th>\n",
       "      <th>userid</th>\n",
       "      <th>recency</th>\n",
       "      <th>frequency</th>\n",
       "      <th>monetary</th>\n",
       "      <th>rfm_iq_pre</th>\n",
       "      <th>buyer</th>\n",
       "      <th>ordersize</th>\n",
       "      <th>platform</th>\n",
       "      <th>category</th>\n",
       "      <th>mobile_os</th>\n",
       "      <th>training</th>\n",
       "      <th>rec_iq</th>\n",
       "      <th>freq_iq</th>\n",
       "      <th>mon_iq</th>\n",
       "      <th>freq_sq</th>\n",
       "      <th>mon_sq</th>\n",
       "      <th>rfm_sq</th>\n",
       "      <th>rfm_iq</th>\n",
       "    </tr>\n",
       "  </thead>\n",
       "  <tbody>\n",
       "    <tr>\n",
       "      <th>0</th>\n",
       "      <td>U12617430</td>\n",
       "      <td>309</td>\n",
       "      <td>7</td>\n",
       "      <td>39.8</td>\n",
       "      <td>514</td>\n",
       "      <td>no</td>\n",
       "      <td>0.0</td>\n",
       "      <td>App</td>\n",
       "      <td>3</td>\n",
       "      <td>android</td>\n",
       "      <td>1.0</td>\n",
       "      <td>5</td>\n",
       "      <td>1</td>\n",
       "      <td>4</td>\n",
       "      <td>1</td>\n",
       "      <td>4</td>\n",
       "      <td>514</td>\n",
       "      <td>514</td>\n",
       "    </tr>\n",
       "    <tr>\n",
       "      <th>1</th>\n",
       "      <td>U63302737</td>\n",
       "      <td>297</td>\n",
       "      <td>8</td>\n",
       "      <td>39.8</td>\n",
       "      <td>514</td>\n",
       "      <td>no</td>\n",
       "      <td>0.0</td>\n",
       "      <td>Browser</td>\n",
       "      <td>3</td>\n",
       "      <td>android</td>\n",
       "      <td>1.0</td>\n",
       "      <td>5</td>\n",
       "      <td>1</td>\n",
       "      <td>4</td>\n",
       "      <td>1</td>\n",
       "      <td>4</td>\n",
       "      <td>514</td>\n",
       "      <td>514</td>\n",
       "    </tr>\n",
       "    <tr>\n",
       "      <th>2</th>\n",
       "      <td>U77095928</td>\n",
       "      <td>295</td>\n",
       "      <td>1</td>\n",
       "      <td>72.9</td>\n",
       "      <td>553</td>\n",
       "      <td>no</td>\n",
       "      <td>0.0</td>\n",
       "      <td>Browser</td>\n",
       "      <td>3</td>\n",
       "      <td>android</td>\n",
       "      <td>1.0</td>\n",
       "      <td>5</td>\n",
       "      <td>5</td>\n",
       "      <td>3</td>\n",
       "      <td>5</td>\n",
       "      <td>3</td>\n",
       "      <td>553</td>\n",
       "      <td>553</td>\n",
       "    </tr>\n",
       "    <tr>\n",
       "      <th>3</th>\n",
       "      <td>U43509181</td>\n",
       "      <td>277</td>\n",
       "      <td>1</td>\n",
       "      <td>40.0</td>\n",
       "      <td>554</td>\n",
       "      <td>no</td>\n",
       "      <td>0.0</td>\n",
       "      <td>Browser</td>\n",
       "      <td>3</td>\n",
       "      <td>android</td>\n",
       "      <td>1.0</td>\n",
       "      <td>5</td>\n",
       "      <td>5</td>\n",
       "      <td>4</td>\n",
       "      <td>5</td>\n",
       "      <td>4</td>\n",
       "      <td>554</td>\n",
       "      <td>554</td>\n",
       "    </tr>\n",
       "    <tr>\n",
       "      <th>4</th>\n",
       "      <td>U23195941</td>\n",
       "      <td>259</td>\n",
       "      <td>1</td>\n",
       "      <td>21.0</td>\n",
       "      <td>555</td>\n",
       "      <td>no</td>\n",
       "      <td>0.0</td>\n",
       "      <td>App</td>\n",
       "      <td>3</td>\n",
       "      <td>android</td>\n",
       "      <td>1.0</td>\n",
       "      <td>5</td>\n",
       "      <td>5</td>\n",
       "      <td>5</td>\n",
       "      <td>5</td>\n",
       "      <td>5</td>\n",
       "      <td>555</td>\n",
       "      <td>555</td>\n",
       "    </tr>\n",
       "  </tbody>\n",
       "</table>\n",
       "</div>"
      ],
      "text/plain": [
       "      userid  recency  frequency  monetary rfm_iq_pre buyer  ordersize  \\\n",
       "0  U12617430      309          7      39.8        514    no        0.0   \n",
       "1  U63302737      297          8      39.8        514    no        0.0   \n",
       "2  U77095928      295          1      72.9        553    no        0.0   \n",
       "3  U43509181      277          1      40.0        554    no        0.0   \n",
       "4  U23195941      259          1      21.0        555    no        0.0   \n",
       "\n",
       "  platform  category mobile_os  training  rec_iq  freq_iq  mon_iq  freq_sq  \\\n",
       "0      App         3   android       1.0       5        1       4        1   \n",
       "1  Browser         3   android       1.0       5        1       4        1   \n",
       "2  Browser         3   android       1.0       5        5       3        5   \n",
       "3  Browser         3   android       1.0       5        5       4        5   \n",
       "4      App         3   android       1.0       5        5       5        5   \n",
       "\n",
       "   mon_sq rfm_sq rfm_iq  \n",
       "0       4    514    514  \n",
       "1       4    514    514  \n",
       "2       3    553    553  \n",
       "3       4    554    554  \n",
       "4       5    555    555  "
      ]
     },
     "execution_count": 15,
     "metadata": {},
     "output_type": "execute_result"
    }
   ],
   "source": [
    "# 顺序 RFM。按照 R，F，M 的顺序依次创建区间。\n",
    "\n",
    "tuango = tuango.assign(\n",
    "    freq_sq=tuango.groupby(\"rec_iq\")[\"frequency\"].transform(rsm.xtile, 5, rev=True)\n",
    ")\n",
    "\n",
    "tuango = tuango.assign(\n",
    "    mon_sq=tuango.groupby([\"rec_iq\", \"freq_sq\"])[\"monetary\"].transform(rsm.xtile, 5, rev=True)\n",
    ")\n",
    "\n",
    "# 生成顺序 RFM 的三位号码\n",
    "tuango = tuango.assign(\n",
    "    rfm_sq=tuango[\"rec_iq\"].astype(str)\n",
    "    + tuango[\"freq_sq\"].astype(str)\n",
    "    + tuango[\"mon_sq\"].astype(str)\n",
    ")\n",
    "\n",
    "tuango.head()"
   ]
  },
  {
   "cell_type": "code",
   "execution_count": 16,
   "id": "15f5e4ce",
   "metadata": {},
   "outputs": [
    {
     "data": {
      "text/html": [
       "<div>\n",
       "<style scoped>\n",
       "    .dataframe tbody tr th:only-of-type {\n",
       "        vertical-align: middle;\n",
       "    }\n",
       "\n",
       "    .dataframe tbody tr th {\n",
       "        vertical-align: top;\n",
       "    }\n",
       "\n",
       "    .dataframe thead th {\n",
       "        text-align: right;\n",
       "    }\n",
       "</style>\n",
       "<table border=\"1\" class=\"dataframe\">\n",
       "  <thead>\n",
       "    <tr style=\"text-align: right;\">\n",
       "      <th></th>\n",
       "      <th>userid</th>\n",
       "      <th>recency</th>\n",
       "      <th>frequency</th>\n",
       "      <th>monetary</th>\n",
       "      <th>rfm_iq_pre</th>\n",
       "      <th>buyer</th>\n",
       "      <th>ordersize</th>\n",
       "      <th>platform</th>\n",
       "      <th>category</th>\n",
       "      <th>mobile_os</th>\n",
       "      <th>training</th>\n",
       "      <th>rec_iq</th>\n",
       "      <th>freq_iq</th>\n",
       "      <th>mon_iq</th>\n",
       "      <th>freq_sq</th>\n",
       "      <th>mon_sq</th>\n",
       "      <th>rfm_sq</th>\n",
       "      <th>rfm_iq</th>\n",
       "    </tr>\n",
       "  </thead>\n",
       "  <tbody>\n",
       "  </tbody>\n",
       "</table>\n",
       "</div>"
      ],
      "text/plain": [
       "Empty DataFrame\n",
       "Columns: [userid, recency, frequency, monetary, rfm_iq_pre, buyer, ordersize, platform, category, mobile_os, training, rec_iq, freq_iq, mon_iq, freq_sq, mon_sq, rfm_sq, rfm_iq]\n",
       "Index: []"
      ]
     },
     "execution_count": 16,
     "metadata": {},
     "output_type": "execute_result"
    }
   ],
   "source": [
    "tuango[tuango.rfm_iq_pre != tuango.rfm_iq]"
   ]
  },
  {
   "cell_type": "code",
   "execution_count": 18,
   "id": "be5eab5a",
   "metadata": {},
   "outputs": [
    {
     "data": {
      "text/plain": [
       "0.024720656580638784"
      ]
     },
     "execution_count": 18,
     "metadata": {},
     "output_type": "execute_result"
    }
   ],
   "source": [
    "# 假设提供交易的边际成本为2.5元。每笔交易的费用为销售收入的50％。\n",
    "# 202.13元 为推送带来的平均订单金额。那么需要响应率至少达到 0.024720656580638784 才能盈利。\n",
    "breakeven = 2.5 / (202.13 - 101)\n",
    "breakeven"
   ]
  },
  {
   "cell_type": "markdown",
   "id": "c5999a1e",
   "metadata": {},
   "source": [
    "### 给所有用户发推送"
   ]
  },
  {
   "cell_type": "code",
   "execution_count": 19,
   "id": "e581fc58",
   "metadata": {},
   "outputs": [
    {
     "name": "stdout",
     "output_type": "stream",
     "text": [
      "推送数量及比例为 250,902 (100.0%) 名顾客\n",
      "预计响应率为 2.96%\n",
      "预计收入为 $1,503,495 ，预计成本为 $627,255 \n",
      "预计利润为 $124,492\n",
      "营销费用回报率 ROME 为 19.85%\n"
     ]
    }
   ],
   "source": [
    "def performance(df=tuango, mail_to=None, intro=None, perf='buyer', lev='yes'):\n",
    "    df = df[df['training']==0]\n",
    "\n",
    "    if mail_to:\n",
    "        perc_mail = np.nanmean(df[mail_to]) # 推送比例\n",
    "        df = df[df[mail_to]]\n",
    "    else:\n",
    "        perc_mail = 1.0 # 推送比例\n",
    "        \n",
    "    nr_mail = df.shape[0] # 推送数量\n",
    "    mail_cost = 2.5 * nr_mail # 推送成本\n",
    "\n",
    "    rep_rate = np.nanmean(df[perf]==lev) # 响应比例\n",
    "    nr_resp = np.nansum(df[perf]==lev) # 响应数量\n",
    "\n",
    "    revenue = df['ordersize'].sum()\n",
    "    profit = 0.5 * revenue - mail_cost\n",
    "    ROME = profit / mail_cost\n",
    "    \n",
    "    print(\n",
    "    f\"\"\"推送数量及比例为 {int(nr_mail*perc_mail):,} ({round((100 * perc_mail), 2)}%) 名顾客\n",
    "预计响应率为 {round((100 * rep_rate), 2)}%\n",
    "预计收入为 ${int(revenue):,} ，预计成本为 ${int(mail_cost):,} \n",
    "预计利润为 ${int(profit):,}\n",
    "营销费用回报率 ROME 为 {round((100 * ROME), 2)}%\"\"\"\n",
    ")\n",
    "    return [profit, ROME]\n",
    "\n",
    "no_target = performance()"
   ]
  },
  {
   "cell_type": "code",
   "execution_count": 20,
   "id": "961fbc39",
   "metadata": {},
   "outputs": [],
   "source": [
    "def response_rate(x, lev=\"yes\"):\n",
    "    return np.nanmean(x == lev)\n",
    "\n",
    "def mailto(x, lev=\"yes\", breakeven=0):\n",
    "    return np.nanmean(x == \"yes\") > breakeven\n",
    "\n",
    "breakeven = 2.5 / (202.13 - 101)"
   ]
  },
  {
   "cell_type": "markdown",
   "id": "77633aed",
   "metadata": {},
   "source": [
    "### 全局 breakeven rate"
   ]
  },
  {
   "cell_type": "code",
   "execution_count": 21,
   "id": "c6577ac4",
   "metadata": {},
   "outputs": [
    {
     "name": "stdout",
     "output_type": "stream",
     "text": [
      "推送数量及比例为 43,235 (41.51%) 名顾客\n",
      "预计响应率为 5.63%\n",
      "预计收入为 $1,191,743 ，预计成本为 $260,382 \n",
      "预计利润为 $335,489\n",
      "营销费用回报率 ROME 为 128.84%\n"
     ]
    }
   ],
   "source": [
    "# calculate performance for independent RFM\n",
    "tuango = tuango.assign(\n",
    "    rfm_iq_resp=tuango.groupby(\"rfm_iq\")[\"buyer\"].transform(response_rate),\n",
    "    mailto_iq=tuango.groupby(\"rfm_iq\")[\"buyer\"].transform(mailto, breakeven=breakeven)\n",
    ")\n",
    "\n",
    "RFM_iq = performance(df=tuango, mail_to='mailto_iq')"
   ]
  },
  {
   "cell_type": "code",
   "execution_count": 22,
   "id": "9221715d",
   "metadata": {},
   "outputs": [
    {
     "name": "stdout",
     "output_type": "stream",
     "text": [
      "推送数量及比例为 41,603 (40.72%) 名顾客\n",
      "预计响应率为 5.76%\n",
      "预计收入为 $1,196,258 ，预计成本为 $255,420 \n",
      "预计利润为 $342,709\n",
      "营销费用回报率 ROME 为 134.17%\n"
     ]
    }
   ],
   "source": [
    "# calculate performance for sequential RFM\n",
    "tuango['mailto_sq'] = tuango.groupby(\"rfm_sq\")[\"buyer\"].transform(mailto, breakeven=breakeven)\n",
    "\n",
    "RFM_sq = performance(df=tuango, mail_to='mailto_sq')"
   ]
  },
  {
   "cell_type": "markdown",
   "id": "91bfc5fa",
   "metadata": {},
   "source": [
    "### 分 cell 单独计算 breakeven rate"
   ]
  },
  {
   "cell_type": "code",
   "execution_count": 23,
   "id": "0d049e64",
   "metadata": {},
   "outputs": [
    {
     "name": "stderr",
     "output_type": "stream",
     "text": [
      "<ipython-input-23-5ca39610e075>:6: RuntimeWarning: invalid value encountered in double_scalars\n",
      "  tuango['avg_order_sq'] = tuango.groupby('rfm_sq')[['ordersize','buyer_yes']].transform(sum).apply(lambda x: x['ordersize']/x['buyer_yes'], axis=1).fillna(0)\n"
     ]
    }
   ],
   "source": [
    "# 根据每个 RFM cell 计算单独的 breakeven rate\n",
    "tuango[\"buyer_yes\"] = np.where(tuango[\"buyer\"] == \"yes\", 1, 0)\n",
    "tuango['rfm_sq_resp']=tuango.groupby(\"rfm_sq\")[\"buyer\"].transform(response_rate)\n",
    "\n",
    "\n",
    "tuango['avg_order_sq'] = tuango.groupby('rfm_sq')[['ordersize','buyer_yes']].transform(sum).apply(lambda x: x['ordersize']/x['buyer_yes'], axis=1).fillna(0)\n",
    "tuango['breakeven_sq'] = (2.5 / (0.5*tuango['avg_order_sq']))"
   ]
  },
  {
   "cell_type": "code",
   "execution_count": 24,
   "id": "d71a49b3",
   "metadata": {},
   "outputs": [
    {
     "name": "stdout",
     "output_type": "stream",
     "text": [
      "推送数量及比例为 42,004 (40.92%) 名顾客\n",
      "预计响应率为 5.71%\n",
      "预计收入为 $1,201,647 ，预计成本为 $256,650 \n",
      "预计利润为 $344,173\n",
      "营销费用回报率 ROME 为 134.1%\n"
     ]
    }
   ],
   "source": [
    "tuango['mailto_sq_pc'] = tuango['rfm_sq_resp'] > tuango['breakeven_sq']\n",
    "\n",
    "tuango.mailto_sq_pc.sum()\n",
    "\n",
    "RFM_sq_pc = performance(df=tuango, mail_to='mailto_sq_pc')"
   ]
  },
  {
   "cell_type": "markdown",
   "id": "14a6f66d",
   "metadata": {},
   "source": [
    "### 分 cell 单独计算 breakeven rate，考虑标准误"
   ]
  },
  {
   "cell_type": "code",
   "execution_count": 25,
   "id": "8fb77faa",
   "metadata": {},
   "outputs": [],
   "source": [
    "def prop_lb(x):\n",
    "    prop = np.mean(x) - rsm.seprop(x)\n",
    "    return rsm.ifelse(prop<0, 0, prop)"
   ]
  },
  {
   "cell_type": "code",
   "execution_count": 26,
   "id": "3a5481b0",
   "metadata": {},
   "outputs": [
    {
     "name": "stderr",
     "output_type": "stream",
     "text": [
      "<ipython-input-26-926f98b2fb99>:1: RuntimeWarning: invalid value encountered in double_scalars\n",
      "  tuango['avg_order_iq'] = tuango.groupby('rfm_iq')[['ordersize','buyer_yes']].transform(sum).apply(lambda x: x['ordersize']/x['buyer_yes'], axis=1).fillna(0)\n"
     ]
    },
    {
     "name": "stdout",
     "output_type": "stream",
     "text": [
      "推送数量及比例为 34,129 (36.88%) 名顾客\n",
      "预计响应率为 6.0%\n",
      "预计收入为 $1,132,928 ，预计成本为 $231,342 \n",
      "预计利润为 $335,121\n",
      "营销费用回报率 ROME 为 144.86%\n"
     ]
    }
   ],
   "source": [
    "tuango['avg_order_iq'] = tuango.groupby('rfm_iq')[['ordersize','buyer_yes']].transform(sum).apply(lambda x: x['ordersize']/x['buyer_yes'], axis=1).fillna(0)\n",
    "tuango['breakeven_iq'] = (2.5 / (0.5*tuango['avg_order_iq']))\n",
    "\n",
    "tuango['mailto_iq_lb'] = (\n",
    "    tuango.groupby('rfm_iq')['buyer_yes'].transform(prop_lb) > tuango.breakeven_iq\n",
    ")\n",
    "\n",
    "RFM_iq_lb = performance(df=tuango, mail_to='mailto_iq_lb')"
   ]
  },
  {
   "cell_type": "code",
   "execution_count": 27,
   "id": "5db3687d",
   "metadata": {},
   "outputs": [
    {
     "name": "stdout",
     "output_type": "stream",
     "text": [
      "推送数量及比例为 34,080 (36.86%) 名顾客\n",
      "预计响应率为 6.08%\n",
      "预计收入为 $1,147,422 ，预计成本为 $231,177 \n",
      "预计利润为 $342,533\n",
      "营销费用回报率 ROME 为 148.17%\n"
     ]
    }
   ],
   "source": [
    "tuango['mailto_sq_lb'] = (\n",
    "    tuango.groupby('rfm_sq')['buyer_yes'].transform(prop_lb) > tuango.breakeven_sq\n",
    ")\n",
    "\n",
    "RFM_sq_lb = performance(df=tuango, mail_to='mailto_sq_lb')"
   ]
  },
  {
   "cell_type": "code",
   "execution_count": 28,
   "id": "f42c54e2",
   "metadata": {},
   "outputs": [
    {
     "data": {
      "text/html": [
       "<div>\n",
       "<style scoped>\n",
       "    .dataframe tbody tr th:only-of-type {\n",
       "        vertical-align: middle;\n",
       "    }\n",
       "\n",
       "    .dataframe tbody tr th {\n",
       "        vertical-align: top;\n",
       "    }\n",
       "\n",
       "    .dataframe thead th {\n",
       "        text-align: right;\n",
       "    }\n",
       "</style>\n",
       "<table border=\"1\" class=\"dataframe\">\n",
       "  <thead>\n",
       "    <tr style=\"text-align: right;\">\n",
       "      <th></th>\n",
       "      <th>profit</th>\n",
       "      <th>ROME</th>\n",
       "      <th>n</th>\n",
       "    </tr>\n",
       "  </thead>\n",
       "  <tbody>\n",
       "    <tr>\n",
       "      <th>0</th>\n",
       "      <td>124492.5</td>\n",
       "      <td>0.198472</td>\n",
       "      <td>no_target</td>\n",
       "    </tr>\n",
       "    <tr>\n",
       "      <th>1</th>\n",
       "      <td>335489.0</td>\n",
       "      <td>1.288447</td>\n",
       "      <td>RFM_iq</td>\n",
       "    </tr>\n",
       "    <tr>\n",
       "      <th>2</th>\n",
       "      <td>342709.0</td>\n",
       "      <td>1.341747</td>\n",
       "      <td>RFM_sq</td>\n",
       "    </tr>\n",
       "    <tr>\n",
       "      <th>3</th>\n",
       "      <td>344173.5</td>\n",
       "      <td>1.341023</td>\n",
       "      <td>RFM_sq_pc</td>\n",
       "    </tr>\n",
       "    <tr>\n",
       "      <th>4</th>\n",
       "      <td>335121.5</td>\n",
       "      <td>1.448595</td>\n",
       "      <td>RFM_iq_lb</td>\n",
       "    </tr>\n",
       "    <tr>\n",
       "      <th>5</th>\n",
       "      <td>342533.5</td>\n",
       "      <td>1.481690</td>\n",
       "      <td>RFM_sq_lb</td>\n",
       "    </tr>\n",
       "  </tbody>\n",
       "</table>\n",
       "</div>"
      ],
      "text/plain": [
       "     profit      ROME          n\n",
       "0  124492.5  0.198472  no_target\n",
       "1  335489.0  1.288447     RFM_iq\n",
       "2  342709.0  1.341747     RFM_sq\n",
       "3  344173.5  1.341023  RFM_sq_pc\n",
       "4  335121.5  1.448595  RFM_iq_lb\n",
       "5  342533.5  1.481690  RFM_sq_lb"
      ]
     },
     "execution_count": 28,
     "metadata": {},
     "output_type": "execute_result"
    }
   ],
   "source": [
    "viz = pd.DataFrame(np.array([no_target,RFM_iq,RFM_sq,RFM_sq_pc,RFM_iq_lb,RFM_sq_lb]),columns=['profit','ROME'])\n",
    "viz['n']=pd.Series(['no_target','RFM_iq','RFM_sq','RFM_sq_pc','RFM_iq_lb','RFM_sq_lb'])\n",
    "viz"
   ]
  },
  {
   "cell_type": "markdown",
   "id": "c18685e5",
   "metadata": {},
   "source": [
    "### Model Performance"
   ]
  },
  {
   "cell_type": "code",
   "execution_count": 29,
   "id": "89d0366f",
   "metadata": {},
   "outputs": [
    {
     "data": {
      "image/png": "[encoded data removed]",
      "text/plain": [
       "<Figure size 360x360 with 1 Axes>"
      ]
     },
     "metadata": {
      "needs_background": "light"
     },
     "output_type": "display_data"
    }
   ],
   "source": [
    "sns.catplot(x='n',y='profit',data=viz,kind='bar',palette=\"Blues\").set(title='Campaign Profit')\n",
    "plt.show()"
   ]
  },
  {
   "cell_type": "code",
   "execution_count": 30,
   "id": "037e880f",
   "metadata": {},
   "outputs": [
    {
     "data": {
      "image/png": "[encoded data removed]",
      "text/plain": [
       "<Figure size 360x360 with 1 Axes>"
      ]
     },
     "metadata": {
      "needs_background": "light"
     },
     "output_type": "display_data"
    }
   ],
   "source": [
    "sns.catplot(x='n',y='ROME',data=viz,kind='bar',palette=\"Blues\").set(title='Campaign ROME')\n",
    "plt.show()"
   ]
  }
 ],
 "metadata": {
  "kernelspec": {
   "display_name": "Python 3",
   "language": "python",
   "name": "python3"
  },
  "language_info": {
   "codemirror_mode": {
    "name": "ipython",
    "version": 3
   },
   "file_extension": ".py",
   "mimetype": "text/x-python",
   "name": "python",
   "nbconvert_exporter": "python",
   "pygments_lexer": "ipython3",
   "version": "3.8.5"
  }
 },
 "nbformat": 4,
 "nbformat_minor": 5
}
